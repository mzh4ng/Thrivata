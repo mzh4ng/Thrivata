{
 "cells": [
  {
   "cell_type": "code",
   "execution_count": null,
   "metadata": {},
   "outputs": [],
   "source": [
    "# The way this tutorial uses the `TimeDistributed` layer requires TF>=2.10\n",
    "import sys\n",
    "#!{sys.executable} -m pip install -U \"tensorflow>=2.10.0\""
   ]
  },
  {
   "cell_type": "code",
   "execution_count": 11,
   "metadata": {},
   "outputs": [
    {
     "name": "stdout",
     "output_type": "stream",
     "text": [
      "Requirement already satisfied: remotezip in c:\\users\\magma\\anaconda3\\lib\\site-packages (0.12.1)\n",
      "Requirement already satisfied: tqdm in c:\\users\\magma\\anaconda3\\lib\\site-packages (4.64.1)\n",
      "Requirement already satisfied: opencv-python in c:\\users\\magma\\anaconda3\\lib\\site-packages (4.8.0.76)\n",
      "Requirement already satisfied: tabulate in c:\\users\\magma\\anaconda3\\lib\\site-packages (from remotezip) (0.8.10)\n",
      "Requirement already satisfied: requests in c:\\users\\magma\\anaconda3\\lib\\site-packages (from remotezip) (2.28.1)\n",
      "Requirement already satisfied: colorama in c:\\users\\magma\\anaconda3\\lib\\site-packages (from tqdm) (0.4.6)\n",
      "Requirement already satisfied: numpy>=1.21.2 in c:\\users\\magma\\anaconda3\\lib\\site-packages (from opencv-python) (1.23.5)\n",
      "Requirement already satisfied: idna<4,>=2.5 in c:\\users\\magma\\anaconda3\\lib\\site-packages (from requests->remotezip) (3.4)\n",
      "Requirement already satisfied: charset-normalizer<3,>=2 in c:\\users\\magma\\anaconda3\\lib\\site-packages (from requests->remotezip) (2.0.4)\n",
      "Requirement already satisfied: certifi>=2017.4.17 in c:\\users\\magma\\anaconda3\\lib\\site-packages (from requests->remotezip) (2023.5.7)\n",
      "Requirement already satisfied: urllib3<1.27,>=1.21.1 in c:\\users\\magma\\anaconda3\\lib\\site-packages (from requests->remotezip) (1.26.14)\n"
     ]
    }
   ],
   "source": [
    "#!{sys.executable} -m pip install remotezip tqdm opencv-python\n",
    "#!{sys.executable} -m pip install -q git+https://github.com/tensorflow/docs"
   ]
  },
  {
   "cell_type": "code",
   "execution_count": 12,
   "metadata": {},
   "outputs": [],
   "source": [
    "import tqdm\n",
    "import random\n",
    "import pathlib\n",
    "import itertools\n",
    "import collections\n",
    "\n",
    "import os\n",
    "import cv2\n",
    "import numpy as np\n",
    "import remotezip as rz\n",
    "\n",
    "import tensorflow as tf\n",
    "\n",
    "# Some modules to display an animation using imageio.\n",
    "import imageio\n",
    "from IPython import display\n",
    "from urllib import request\n",
    "from tensorflow_docs.vis import embed"
   ]
  },
  {
   "cell_type": "code",
   "execution_count": 13,
   "metadata": {},
   "outputs": [],
   "source": [
    "URL = 'https://storage.googleapis.com/thumos14_files/UCF101_videos.zip'"
   ]
  },
  {
   "cell_type": "code",
   "execution_count": 15,
   "metadata": {},
   "outputs": [],
   "source": [
    "def list_files_from_zip_url(zip_url):\n",
    "    \"\"\" List the files in each class of the dataset given a URL with the zip file.\n",
    "\n",
    "    Args:\n",
    "      zip_url: A URL from which the files can be extracted from.\n",
    "\n",
    "    Returns:\n",
    "      List of files in each of the classes.\n",
    "    \"\"\"\n",
    "    files = []\n",
    "    with rz.RemoteZip(zip_url) as zip:\n",
    "        for zip_info in zip.infolist():\n",
    "            files.append(zip_info.filename)\n",
    "    return files"
   ]
  },
  {
   "cell_type": "code",
   "execution_count": 16,
   "metadata": {},
   "outputs": [
    {
     "data": {
      "text/plain": [
       "['UCF101/v_ApplyEyeMakeup_g01_c01.avi',\n",
       " 'UCF101/v_ApplyEyeMakeup_g01_c02.avi',\n",
       " 'UCF101/v_ApplyEyeMakeup_g01_c03.avi',\n",
       " 'UCF101/v_ApplyEyeMakeup_g01_c04.avi',\n",
       " 'UCF101/v_ApplyEyeMakeup_g01_c05.avi',\n",
       " 'UCF101/v_ApplyEyeMakeup_g01_c06.avi',\n",
       " 'UCF101/v_ApplyEyeMakeup_g02_c01.avi',\n",
       " 'UCF101/v_ApplyEyeMakeup_g02_c02.avi',\n",
       " 'UCF101/v_ApplyEyeMakeup_g02_c03.avi',\n",
       " 'UCF101/v_ApplyEyeMakeup_g02_c04.avi']"
      ]
     },
     "execution_count": 16,
     "metadata": {},
     "output_type": "execute_result"
    }
   ],
   "source": [
    "files = list_files_from_zip_url(URL)\n",
    "files = [f for f in files if f.endswith('.avi')]\n",
    "files[:10]"
   ]
  },
  {
   "cell_type": "code",
   "execution_count": 17,
   "metadata": {},
   "outputs": [],
   "source": [
    "def get_class(fname):\n",
    "    \"\"\" Retrieve the name of the class given a filename.\n",
    "\n",
    "    Args:\n",
    "      fname: Name of the file in the UCF101 dataset.\n",
    "\n",
    "    Returns:\n",
    "      Class that the file belongs to.\n",
    "    \"\"\"\n",
    "    return fname.split('_')[-3]"
   ]
  },
  {
   "cell_type": "code",
   "execution_count": 18,
   "metadata": {},
   "outputs": [],
   "source": [
    "def get_files_per_class(files):\n",
    "    \"\"\" Retrieve the files that belong to each class.\n",
    "\n",
    "    Args:\n",
    "      files: List of files in the dataset.\n",
    "\n",
    "    Returns:\n",
    "      Dictionary of class names (key) and files (values). \n",
    "    \"\"\"\n",
    "    files_for_class = collections.defaultdict(list)\n",
    "    for fname in files:\n",
    "        class_name = get_class(fname)\n",
    "        files_for_class[class_name].append(fname)\n",
    "    return files_for_class"
   ]
  },
  {
   "cell_type": "code",
   "execution_count": 20,
   "metadata": {},
   "outputs": [],
   "source": [
    "files_for_class = get_files_per_class(files)\n",
    "classes = list(files_for_class.keys())"
   ]
  },
  {
   "cell_type": "code",
   "execution_count": 21,
   "metadata": {},
   "outputs": [
    {
     "name": "stdout",
     "output_type": "stream",
     "text": [
      "Num classes: 101\n",
      "Num videos for class[0]: 145\n"
     ]
    }
   ],
   "source": [
    "print('Num classes:', len(classes))\n",
    "print('Num videos for class[0]:', len(files_for_class[classes[0]]))"
   ]
  },
  {
   "cell_type": "code",
   "execution_count": 25,
   "metadata": {},
   "outputs": [],
   "source": [
    "def select_subset_of_classes(files_for_class, classes, files_per_class):\n",
    "    \"\"\" Create a dictionary with the class name and a subset of the files in that class.\n",
    "\n",
    "    Args:\n",
    "      files_for_class: Dictionary of class names (key) and files (values).\n",
    "      classes: List of classes.\n",
    "      files_per_class: Number of files per class of interest.\n",
    "\n",
    "    Returns:\n",
    "      Dictionary with class as key and list of specified number of video files in that class.\n",
    "    \"\"\"\n",
    "    files_subset = dict()\n",
    "\n",
    "    for class_name in classes:\n",
    "        class_files = files_for_class[class_name]\n",
    "        files_subset[class_name] = class_files[:files_per_class]\n",
    "\n",
    "    return files_subset"
   ]
  },
  {
   "cell_type": "code",
   "execution_count": 26,
   "metadata": {},
   "outputs": [],
   "source": [
    "NUM_CLASSES = 10\n",
    "FILES_PER_CLASS = 50"
   ]
  },
  {
   "cell_type": "code",
   "execution_count": 27,
   "metadata": {},
   "outputs": [
    {
     "data": {
      "text/plain": [
       "['ApplyEyeMakeup',\n",
       " 'ApplyLipstick',\n",
       " 'Archery',\n",
       " 'BabyCrawling',\n",
       " 'BalanceBeam',\n",
       " 'BandMarching',\n",
       " 'BaseballPitch',\n",
       " 'BasketballDunk',\n",
       " 'Basketball',\n",
       " 'BenchPress']"
      ]
     },
     "execution_count": 27,
     "metadata": {},
     "output_type": "execute_result"
    }
   ],
   "source": [
    "files_subset = select_subset_of_classes(files_for_class, classes[:NUM_CLASSES], FILES_PER_CLASS)\n",
    "list(files_subset.keys())"
   ]
  },
  {
   "cell_type": "code",
   "execution_count": 28,
   "metadata": {},
   "outputs": [],
   "source": [
    "def download_from_zip(zip_url, to_dir, file_names):\n",
    "    \"\"\" Download the contents of the zip file from the zip URL.\n",
    "\n",
    "    Args:\n",
    "      zip_url: A URL with a zip file containing data.\n",
    "      to_dir: A directory to download data to.\n",
    "      file_names: Names of files to download.\n",
    "    \"\"\"\n",
    "    with rz.RemoteZip(zip_url) as zip:\n",
    "        for fn in tqdm.tqdm(file_names):\n",
    "            class_name = get_class(fn)\n",
    "            zip.extract(fn, str(to_dir / class_name))\n",
    "            unzipped_file = to_dir / class_name / fn\n",
    "            \n",
    "            fn = pathlib.Path(fn).parts[-1]\n",
    "            output_file = to_dir / class_name / fn\n",
    "            unzipped_file.rename(output_file)"
   ]
  },
  {
   "cell_type": "code",
   "execution_count": 29,
   "metadata": {},
   "outputs": [],
   "source": [
    "def split_class_lists(files_for_class, count):\n",
    "    \"\"\" Returns the list of files belonging to a subset of data as well as the remainder of\n",
    "    files that need to be downloaded.\n",
    "\n",
    "    Args:\n",
    "      files_for_class: Files belonging to a particular class of data.\n",
    "      count: Number of files to download.\n",
    "\n",
    "    Returns:\n",
    "      Files belonging to the subset of data and dictionary of the remainder of files that need to be downloaded.\n",
    "    \"\"\"\n",
    "    split_files = []\n",
    "    remainder = {}\n",
    "    for cls in files_for_class:\n",
    "        split_files.extend(files_for_class[cls][:count])\n",
    "        remainder[cls] = files_for_class[cls][count:]\n",
    "    return split_files, remainder"
   ]
  },
  {
   "cell_type": "code",
   "execution_count": 30,
   "metadata": {},
   "outputs": [],
   "source": [
    "def download_ucf_101_subset(zip_url, num_classes, splits, download_dir):\n",
    "    \"\"\" Download a subset of the UCF101 dataset and split them into various parts, such as\n",
    "    training, validation, and test.\n",
    "\n",
    "    Args:\n",
    "      zip_url: A URL with a ZIP file with the data.\n",
    "      num_classes: Number of labels.\n",
    "      splits: Dictionary specifying the training, validation, test, etc. (key) division of data \n",
    "              (value is number of files per split).\n",
    "      download_dir: Directory to download data to.\n",
    "\n",
    "    Return:\n",
    "      Mapping of the directories containing the subsections of data.\n",
    "    \"\"\"\n",
    "    files = list_files_from_zip_url(zip_url)\n",
    "    for f in files:\n",
    "        path = os.path.normpath(f)\n",
    "        tokens = path.split(os.sep)\n",
    "        if len(tokens) <= 2:\n",
    "            files.remove(f) # Remove that item from the list if it does not have a filename\n",
    "\n",
    "    files_for_class = get_files_per_class(files)\n",
    "\n",
    "    classes = list(files_for_class.keys())[:num_classes]\n",
    "\n",
    "    for cls in classes:\n",
    "        random.shuffle(files_for_class[cls])\n",
    "\n",
    "    # Only use the number of classes you want in the dictionary\n",
    "    files_for_class = {x: files_for_class[x] for x in classes}\n",
    "\n",
    "    dirs = {}\n",
    "    for split_name, split_count in splits.items():\n",
    "        print(split_name, \":\")\n",
    "        split_dir = download_dir / split_name\n",
    "        split_files, files_for_class = split_class_lists(files_for_class, split_count)\n",
    "        download_from_zip(zip_url, split_dir, split_files)\n",
    "        dirs[split_name] = split_dir\n",
    "\n",
    "    return dirs"
   ]
  },
  {
   "cell_type": "code",
   "execution_count": 31,
   "metadata": {},
   "outputs": [
    {
     "name": "stdout",
     "output_type": "stream",
     "text": [
      "train :\n"
     ]
    },
    {
     "name": "stderr",
     "output_type": "stream",
     "text": [
      "100%|████████████████████████████████████████████████████████████████████████████████| 300/300 [04:29<00:00,  1.11it/s]\n"
     ]
    },
    {
     "name": "stdout",
     "output_type": "stream",
     "text": [
      "val :\n"
     ]
    },
    {
     "name": "stderr",
     "output_type": "stream",
     "text": [
      "100%|████████████████████████████████████████████████████████████████████████████████| 100/100 [01:26<00:00,  1.15it/s]\n"
     ]
    },
    {
     "name": "stdout",
     "output_type": "stream",
     "text": [
      "test :\n"
     ]
    },
    {
     "name": "stderr",
     "output_type": "stream",
     "text": [
      "100%|████████████████████████████████████████████████████████████████████████████████| 100/100 [01:25<00:00,  1.17it/s]\n"
     ]
    }
   ],
   "source": [
    "download_dir = pathlib.Path('./UCF101_subset/')\n",
    "subset_paths = download_ucf_101_subset(URL,\n",
    "                                       num_classes = NUM_CLASSES,\n",
    "                                       splits = {\"train\": 30, \"val\": 10, \"test\": 10},\n",
    "                                       download_dir = download_dir)"
   ]
  },
  {
   "cell_type": "code",
   "execution_count": 32,
   "metadata": {},
   "outputs": [
    {
     "name": "stdout",
     "output_type": "stream",
     "text": [
      "Total videos: 500\n"
     ]
    }
   ],
   "source": [
    "video_count_train = len(list(download_dir.glob('train/*/*.avi')))\n",
    "video_count_val = len(list(download_dir.glob('val/*/*.avi')))\n",
    "video_count_test = len(list(download_dir.glob('test/*/*.avi')))\n",
    "video_total = video_count_train + video_count_val + video_count_test\n",
    "print(f\"Total videos: {video_total}\")"
   ]
  },
  {
   "cell_type": "code",
   "execution_count": 41,
   "metadata": {},
   "outputs": [],
   "source": [
    "def format_frames(frame, output_size):\n",
    "    \"\"\"\n",
    "    Pad and resize an image from a video.\n",
    "\n",
    "    Args:\n",
    "      frame: Image that needs to resized and padded. \n",
    "      output_size: Pixel size of the output frame image.\n",
    "\n",
    "    Return:\n",
    "      Formatted frame with padding of specified output size.\n",
    "    \"\"\"\n",
    "    frame = tf.image.convert_image_dtype(frame, tf.float32)\n",
    "    frame = tf.image.resize_with_pad(frame, *output_size)\n",
    "    return frame"
   ]
  },
  {
   "cell_type": "code",
   "execution_count": 42,
   "metadata": {},
   "outputs": [],
   "source": [
    "def frames_from_video_file(video_path, n_frames, output_size = (224,224), frame_step = 15):\n",
    "    \"\"\"\n",
    "    Creates frames from each video file present for each category.\n",
    "\n",
    "    Args:\n",
    "      video_path: File path to the video.\n",
    "      n_frames: Number of frames to be created per video file.\n",
    "      output_size: Pixel size of the output frame image.\n",
    "\n",
    "    Return:\n",
    "      An NumPy array of frames in the shape of (n_frames, height, width, channels).\n",
    "    \"\"\"\n",
    "    # Read each video frame by frame\n",
    "    result = []\n",
    "    src = cv2.VideoCapture(str(video_path))  \n",
    "\n",
    "    video_length = src.get(cv2.CAP_PROP_FRAME_COUNT)\n",
    "\n",
    "    need_length = 1 + (n_frames - 1) * frame_step\n",
    "\n",
    "    if need_length > video_length:\n",
    "        start = 0\n",
    "    else:\n",
    "        max_start = video_length - need_length\n",
    "        start = random.randint(0, max_start + 1)\n",
    "\n",
    "    src.set(cv2.CAP_PROP_POS_FRAMES, start)\n",
    "    # ret is a boolean indicating whether read was successful, frame is the image itself\n",
    "    ret, frame = src.read()\n",
    "    result.append(format_frames(frame, output_size))\n",
    "\n",
    "    for _ in range(n_frames - 1):\n",
    "        for _ in range(frame_step):\n",
    "            ret, frame = src.read()\n",
    "    if ret:\n",
    "        frame = format_frames(frame, output_size)\n",
    "        result.append(frame)\n",
    "    else:\n",
    "        result.append(np.zeros_like(result[0]))\n",
    "    src.release()\n",
    "    result = np.array(result)[..., [2, 1, 0]]\n",
    "\n",
    "    return result"
   ]
  },
  {
   "cell_type": "code",
   "execution_count": 45,
   "metadata": {},
   "outputs": [
    {
     "name": "stderr",
     "output_type": "stream",
     "text": [
      "  % Total    % Received % Xferd  Average Speed   Time    Time     Time  Current\n",
      "                                 Dload  Upload   Total   Spent    Left  Speed\n",
      "\n",
      "  0     0    0     0    0     0      0      0 --:--:-- --:--:-- --:--:--     0\n",
      "  0     0    0     0    0     0      0      0 --:--:-- --:--:-- --:--:--     0\n",
      "  0 55.0M    0  238k    0     0   198k      0  0:04:44  0:00:01  0:04:43  198k\n",
      "  1 55.0M    1  716k    0     0   335k      0  0:02:48  0:00:02  0:02:46  335k\n",
      "  2 55.0M    2 1130k    0     0   360k      0  0:02:36  0:00:03  0:02:33  361k\n",
      "  2 55.0M    2 1672k    0     0   396k      0  0:02:22  0:00:04  0:02:18  396k\n",
      "  3 55.0M    3 2039k    0     0   394k      0  0:02:23  0:00:05  0:02:18  413k\n",
      "  4 55.0M    4 2501k    0     0   407k      0  0:02:18  0:00:06  0:02:12  458k\n",
      "  5 55.0M    5 2974k    0     0   417k      0  0:02:15  0:00:07  0:02:08  451k\n",
      "  6 55.0M    6 3388k    0     0   416k      0  0:02:15  0:00:08  0:02:07  451k\n",
      "  6 55.0M    6 3834k    0     0   419k      0  0:02:14  0:00:09  0:02:05  440k\n",
      "  7 55.0M    7 4344k    0     0   428k      0  0:02:11  0:00:10  0:02:01  464k\n",
      "  8 55.0M    8 4854k    0     0   436k      0  0:02:09  0:00:11  0:01:58  470k\n",
      "  9 55.0M    9 5349k    0     0   440k      0  0:02:07  0:00:12  0:01:55  474k\n",
      " 10 55.0M   10 5811k    0     0   439k      0  0:02:08  0:00:13  0:01:55  477k\n",
      " 11 55.0M   11 6416k    0     0   453k      0  0:02:04  0:00:14  0:01:50  515k\n",
      " 12 55.0M   12 6799k    0     0   448k      0  0:02:05  0:00:15  0:01:50  489k\n",
      " 12 55.0M   12 7086k    0     0   439k      0  0:02:08  0:00:16  0:01:52  446k\n",
      " 13 55.0M   13 7516k    0     0   436k      0  0:02:09  0:00:17  0:01:52  426k\n",
      " 14 55.0M   14 7930k    0     0   437k      0  0:02:09  0:00:18  0:01:51  430k\n",
      " 14 55.0M   14 8345k    0     0   436k      0  0:02:09  0:00:19  0:01:50  385k\n",
      " 15 55.0M   15 8839k    0     0   439k      0  0:02:08  0:00:20  0:01:48  408k\n",
      " 16 55.0M   16 9237k    0     0   435k      0  0:02:09  0:00:21  0:01:48  422k\n",
      " 17 55.0M   17 9668k    0     0   436k      0  0:02:09  0:00:22  0:01:47  436k\n",
      " 17 55.0M   17  9.7M    0     0   432k      0  0:02:10  0:00:23  0:01:47  413k\n",
      " 18 55.0M   18 10.2M    0     0   432k      0  0:02:10  0:00:24  0:01:46  421k\n",
      " 19 55.0M   19 10.5M    0     0   430k      0  0:02:10  0:00:25  0:01:45  398k\n",
      " 20 55.0M   20 11.0M    0     0   432k      0  0:02:10  0:00:26  0:01:44  421k\n",
      " 20 55.0M   20 11.3M    0     0   429k      0  0:02:11  0:00:27  0:01:44  398k\n",
      " 21 55.0M   21 11.7M    0     0   429k      0  0:02:11  0:00:28  0:01:43  415k\n",
      " 22 55.0M   22 12.1M    0     0   426k      0  0:02:12  0:00:29  0:01:43  395k\n",
      " 22 55.0M   22 12.4M    0     0   421k      0  0:02:13  0:00:30  0:01:43  375k\n",
      " 23 55.0M   23 12.7M    0     0   420k      0  0:02:14  0:00:31  0:01:43  354k\n",
      " 23 55.0M   23 13.1M    0     0   418k      0  0:02:14  0:00:32  0:01:42  357k\n",
      " 24 55.0M   24 13.4M    0     0   416k      0  0:02:15  0:00:33  0:01:42  344k\n",
      " 25 55.0M   25 13.8M    0     0   415k      0  0:02:15  0:00:34  0:01:41  349k\n",
      " 25 55.0M   25 14.2M    0     0   416k      0  0:02:15  0:00:35  0:01:40  382k\n",
      " 26 55.0M   26 14.7M    0     0   419k      0  0:02:14  0:00:36  0:01:38  414k\n",
      " 27 55.0M   27 15.2M    0     0   419k      0  0:02:14  0:00:37  0:01:37  432k\n",
      " 28 55.0M   28 15.6M    0     0   420k      0  0:02:14  0:00:38  0:01:36  445k\n",
      " 29 55.0M   29 16.1M    0     0   421k      0  0:02:13  0:00:39  0:01:34  468k\n",
      " 30 55.0M   30 16.5M    0     0   422k      0  0:02:13  0:00:40  0:01:33  461k\n",
      " 30 55.0M   30 16.9M    0     0   422k      0  0:02:13  0:00:41  0:01:32  443k\n",
      " 31 55.0M   31 17.3M    0     0   421k      0  0:02:13  0:00:42  0:01:31  436k\n",
      " 32 55.0M   32 17.8M    0     0   424k      0  0:02:12  0:00:43  0:01:29  459k\n",
      " 33 55.0M   33 18.3M    0     0   425k      0  0:02:12  0:00:44  0:01:28  457k\n",
      " 34 55.0M   34 18.8M    0     0   426k      0  0:02:12  0:00:45  0:01:27  465k\n",
      " 34 55.0M   34 19.1M    0     0   424k      0  0:02:12  0:00:46  0:01:26  444k\n",
      " 35 55.0M   35 19.6M    0     0   425k      0  0:02:12  0:00:47  0:01:25  457k\n",
      " 36 55.0M   36 20.1M    0     0   428k      0  0:02:11  0:00:48  0:01:23  457k\n",
      " 37 55.0M   37 20.6M    0     0   429k      0  0:02:11  0:00:49  0:01:22  460k\n",
      " 38 55.0M   38 20.9M    0     0   428k      0  0:02:11  0:00:50  0:01:21  440k\n",
      " 38 55.0M   38 21.4M    0     0   429k      0  0:02:11  0:00:51  0:01:20  470k\n",
      " 39 55.0M   39 21.9M    0     0   430k      0  0:02:11  0:00:52  0:01:19  470k\n",
      " 40 55.0M   40 22.3M    0     0   430k      0  0:02:11  0:00:53  0:01:18  450k\n",
      " 41 55.0M   41 22.7M    0     0   429k      0  0:02:11  0:00:54  0:01:17  430k\n",
      " 41 55.0M   41 23.0M    0     0   427k      0  0:02:12  0:00:55  0:01:17  419k\n",
      " 42 55.0M   42 23.4M    0     0   426k      0  0:02:12  0:00:56  0:01:16  404k\n",
      " 43 55.0M   43 23.8M    0     0   426k      0  0:02:12  0:00:57  0:01:15  391k\n",
      " 44 55.0M   44 24.2M    0     0   426k      0  0:02:12  0:00:58  0:01:14  391k\n",
      " 44 55.0M   44 24.6M    0     0   426k      0  0:02:12  0:00:59  0:01:13  392k\n",
      " 45 55.0M   45 25.0M    0     0   426k      0  0:02:12  0:01:00  0:01:12  414k\n",
      " 46 55.0M   46 25.5M    0     0   427k      0  0:02:12  0:01:01  0:01:11  429k\n",
      " 47 55.0M   47 25.9M    0     0   427k      0  0:02:12  0:01:02  0:01:10  432k\n",
      " 47 55.0M   47 26.3M    0     0   427k      0  0:02:12  0:01:03  0:01:09  431k\n",
      " 48 55.0M   48 26.7M    0     0   426k      0  0:02:12  0:01:04  0:01:08  426k\n",
      " 49 55.0M   49 27.0M    0     0   424k      0  0:02:12  0:01:05  0:01:07  409k\n",
      " 49 55.0M   49 27.3M    0     0   422k      0  0:02:13  0:01:06  0:01:07  371k\n",
      " 50 55.0M   50 27.6M    0     0   421k      0  0:02:13  0:01:07  0:01:06  356k\n",
      " 50 55.0M   50 28.0M    0     0   421k      0  0:02:13  0:01:08  0:01:05  348k\n",
      " 51 55.0M   51 28.3M    0     0   420k      0  0:02:14  0:01:09  0:01:05  340k\n",
      " 52 55.0M   52 28.7M    0     0   419k      0  0:02:14  0:01:10  0:01:04  347k\n",
      " 52 55.0M   52 29.1M    0     0   418k      0  0:02:14  0:01:11  0:01:03  366k\n",
      " 53 55.0M   53 29.5M    0     0   419k      0  0:02:14  0:01:12  0:01:02  381k\n",
      " 54 55.0M   54 29.9M    0     0   418k      0  0:02:14  0:01:13  0:01:01  382k\n",
      " 55 55.0M   55 30.3M    0     0   419k      0  0:02:14  0:01:14  0:01:00  416k\n",
      " 55 55.0M   55 30.7M    0     0   419k      0  0:02:14  0:01:15  0:00:59  416k\n",
      " 56 55.0M   56 31.2M    0     0   419k      0  0:02:14  0:01:16  0:00:58  433k\n",
      " 57 55.0M   57 31.6M    0     0   420k      0  0:02:14  0:01:17  0:00:57  436k\n",
      " 58 55.0M   58 32.1M    0     0   421k      0  0:02:14  0:01:18  0:00:56  453k\n",
      " 59 55.0M   59 32.5M    0     0   421k      0  0:02:13  0:01:19  0:00:54  440k\n",
      " 59 55.0M   59 32.9M    0     0   421k      0  0:02:13  0:01:20  0:00:53  457k\n",
      " 60 55.0M   60 33.3M    0     0   420k      0  0:02:14  0:01:21  0:00:53  429k\n",
      " 61 55.0M   61 33.7M    0     0   420k      0  0:02:14  0:01:22  0:00:52  426k\n",
      " 61 55.0M   61 34.1M    0     0   420k      0  0:02:14  0:01:23  0:00:51  416k\n",
      " 62 55.0M   62 34.5M    0     0   420k      0  0:02:14  0:01:24  0:00:50  408k\n",
      " 63 55.0M   63 34.9M    0     0   419k      0  0:02:14  0:01:25  0:00:49  391k\n",
      " 63 55.0M   63 35.1M    0     0   418k      0  0:02:14  0:01:26  0:00:48  382k\n",
      " 64 55.0M   64 35.5M    0     0   418k      0  0:02:14  0:01:27  0:00:47  375k\n",
      " 65 55.0M   65 35.9M    0     0   417k      0  0:02:15  0:01:28  0:00:47  365k\n",
      " 65 55.0M   65 36.3M    0     0   417k      0  0:02:15  0:01:29  0:00:46  364k\n",
      " 66 55.0M   66 36.7M    0     0   417k      0  0:02:15  0:01:30  0:00:45  371k\n",
      " 67 55.0M   67 37.0M    0     0   416k      0  0:02:15  0:01:31  0:00:44  385k\n",
      " 67 55.0M   67 37.3M    0     0   415k      0  0:02:15  0:01:32  0:00:43  373k\n",
      " 68 55.0M   68 37.7M    0     0   415k      0  0:02:15  0:01:33  0:00:42  373k\n",
      " 69 55.0M   69 38.2M    0     0   415k      0  0:02:15  0:01:34  0:00:41  387k\n",
      " 70 55.0M   70 38.6M    0     0   416k      0  0:02:15  0:01:35  0:00:40  397k\n",
      " 70 55.0M   70 38.9M    0     0   415k      0  0:02:15  0:01:36  0:00:39  395k\n",
      " 71 55.0M   71 39.3M    0     0   414k      0  0:02:16  0:01:37  0:00:39  398k\n",
      " 72 55.0M   72 39.7M    0     0   414k      0  0:02:16  0:01:38  0:00:38  398k\n",
      " 72 55.0M   72 40.0M    0     0   413k      0  0:02:16  0:01:39  0:00:37  382k\n",
      " 73 55.0M   73 40.4M    0     0   413k      0  0:02:16  0:01:40  0:00:36  359k\n",
      " 74 55.0M   74 40.7M    0     0   412k      0  0:02:16  0:01:41  0:00:35  360k\n",
      " 74 55.0M   74 41.2M    0     0   413k      0  0:02:16  0:01:42  0:00:34  388k\n",
      " 75 55.0M   75 41.6M    0     0   412k      0  0:02:16  0:01:43  0:00:33  383k\n",
      " 76 55.0M   76 41.9M    0     0   412k      0  0:02:16  0:01:44  0:00:32  382k\n",
      " 76 55.0M   76 42.3M    0     0   412k      0  0:02:16  0:01:45  0:00:31  390k\n",
      " 77 55.0M   77 42.6M    0     0   411k      0  0:02:16  0:01:46  0:00:30  395k\n",
      " 78 55.0M   78 43.0M    0     0   411k      0  0:02:17  0:01:47  0:00:30  366k\n",
      " 78 55.0M   78 43.3M    0     0   410k      0  0:02:17  0:01:48  0:00:29  364k\n",
      " 79 55.0M   79 43.7M    0     0   410k      0  0:02:17  0:01:49  0:00:28  368k\n",
      " 80 55.0M   80 44.1M    0     0   410k      0  0:02:17  0:01:50  0:00:27  377k\n",
      " 80 55.0M   80 44.5M    0     0   410k      0  0:02:17  0:01:51  0:00:26  385k\n",
      " 81 55.0M   81 45.0M    0     0   411k      0  0:02:17  0:01:52  0:00:25  406k\n",
      " 82 55.0M   82 45.5M    0     0   411k      0  0:02:16  0:01:53  0:00:23  436k\n",
      " 83 55.0M   83 45.9M    0     0   411k      0  0:02:16  0:01:54  0:00:22  444k\n",
      " 84 55.0M   84 46.3M    0     0   412k      0  0:02:16  0:01:55  0:00:21  446k\n",
      " 84 55.0M   84 46.7M    0     0   411k      0  0:02:17  0:01:56  0:00:21  433k\n",
      " 85 55.0M   85 47.1M    0     0   411k      0  0:02:16  0:01:57  0:00:19  429k\n",
      " 86 55.0M   86 47.6M    0     0   412k      0  0:02:16  0:01:58  0:00:18  433k\n",
      " 87 55.0M   87 47.9M    0     0   412k      0  0:02:16  0:01:59  0:00:17  427k\n",
      " 87 55.0M   87 48.3M    0     0   412k      0  0:02:16  0:02:00  0:00:16  414k\n",
      " 88 55.0M   88 48.6M    0     0   411k      0  0:02:17  0:02:01  0:00:16  397k\n",
      " 88 55.0M   88 48.9M    0     0   410k      0  0:02:17  0:02:02  0:00:15  373k\n",
      " 89 55.0M   89 49.3M    0     0   410k      0  0:02:17  0:02:03  0:00:14  344k\n",
      " 90 55.0M   90 49.7M    0     0   410k      0  0:02:17  0:02:04  0:00:13  366k\n",
      " 90 55.0M   90 50.1M    0     0   409k      0  0:02:17  0:02:05  0:00:12  355k\n",
      " 91 55.0M   91 50.5M    0     0   410k      0  0:02:17  0:02:06  0:00:11  389k\n",
      " 92 55.0M   92 50.9M    0     0   410k      0  0:02:17  0:02:07  0:00:10  404k\n",
      " 93 55.0M   93 51.2M    0     0   409k      0  0:02:17  0:02:08  0:00:09  404k\n",
      " 93 55.0M   93 51.6M    0     0   409k      0  0:02:17  0:02:09  0:00:08  371k\n",
      " 94 55.0M   94 51.9M    0     0   408k      0  0:02:17  0:02:10  0:00:07  386k\n",
      " 95 55.0M   95 52.3M    0     0   408k      0  0:02:17  0:02:11  0:00:06  374k\n",
      " 95 55.0M   95 52.7M    0     0   408k      0  0:02:17  0:02:12  0:00:05  383k\n",
      " 96 55.0M   96 53.1M    0     0   409k      0  0:02:17  0:02:13  0:00:04  388k\n",
      " 97 55.0M   97 53.5M    0     0   408k      0  0:02:18  0:02:14  0:00:04  388k\n",
      " 97 55.0M   97 53.8M    0     0   407k      0  0:02:18  0:02:15  0:00:03  382k\n",
      " 98 55.0M   98 54.1M    0     0   407k      0  0:02:18  0:02:16  0:00:02  371k\n",
      " 98 55.0M   98 54.5M    0     0   407k      0  0:02:18  0:02:17  0:00:01  358k\n",
      " 99 55.0M   99 54.8M    0     0   406k      0  0:02:18  0:02:18 --:--:--  349k\n",
      "100 55.0M  100 55.0M    0     0   406k      0  0:02:18  0:02:18 --:--:--  363k\n"
     ]
    }
   ],
   "source": [
    "!curl -O https://upload.wikimedia.org/wikipedia/commons/8/86/End_of_a_jam.ogv"
   ]
  },
  {
   "cell_type": "code",
   "execution_count": 47,
   "metadata": {},
   "outputs": [
    {
     "data": {
      "text/plain": [
       "(2, 224, 224, 3)"
      ]
     },
     "execution_count": 47,
     "metadata": {},
     "output_type": "execute_result"
    }
   ],
   "source": [
    "video_path = \"End_of_a_jam.ogv\"\n",
    "sample_video = frames_from_video_file(video_path, n_frames = 10)\n",
    "sample_video.shape"
   ]
  },
  {
   "cell_type": "code",
   "execution_count": 46,
   "metadata": {},
   "outputs": [],
   "source": [
    "def to_gif(images):\n",
    "    converted_images = np.clip(images * 255, 0, 255).astype(np.uint8)\n",
    "    imageio.mimsave('./animation.gif', converted_images, fps=10)\n",
    "    return embed.embed_file('./animation.gif')"
   ]
  },
  {
   "cell_type": "code",
   "execution_count": 48,
   "metadata": {},
   "outputs": [
    {
     "data": {
      "text/html": [
       "<img src=\"data:image/gif;base64,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\"/>"
      ],
      "text/plain": [
       "<IPython.core.display.HTML object>"
      ]
     },
     "execution_count": 48,
     "metadata": {},
     "output_type": "execute_result"
    }
   ],
   "source": [
    "to_gif(sample_video)"
   ]
  },
  {
   "cell_type": "code",
   "execution_count": null,
   "metadata": {},
   "outputs": [],
   "source": []
  }
 ],
 "metadata": {
  "kernelspec": {
   "display_name": "Python 3 (ipykernel)",
   "language": "python",
   "name": "python3"
  },
  "language_info": {
   "codemirror_mode": {
    "name": "ipython",
    "version": 3
   },
   "file_extension": ".py",
   "mimetype": "text/x-python",
   "name": "python",
   "nbconvert_exporter": "python",
   "pygments_lexer": "ipython3",
   "version": "3.10.9"
  }
 },
 "nbformat": 4,
 "nbformat_minor": 2
}
